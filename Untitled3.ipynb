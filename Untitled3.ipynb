{
 "cells": [
  {
   "cell_type": "code",
   "execution_count": 2,
   "id": "3e91e670",
   "metadata": {},
   "outputs": [
    {
     "name": "stdout",
     "output_type": "stream",
     "text": [
      "['A', 'c', 'C', 'D']\n"
     ]
    },
    {
     "data": {
      "image/png": "[encoded data removed]",
      "text/plain": [
       "<Figure size 432x288 with 1 Axes>"
      ]
     },
     "metadata": {},
     "output_type": "display_data"
    }
   ],
   "source": [
    "import networkx as nx \n",
    "G = nx.DiGraph()\n",
    "G.add_edges_from([('A','B'),('B','c'),('C','D')])\n",
    "nx.draw(G,with_labels=True,node_color = 'blue')\n",
    "print(get_leaves(G))"
   ]
  },
  {
   "cell_type": "code",
   "execution_count": 1,
   "id": "50e89925",
   "metadata": {},
   "outputs": [],
   "source": [
    "li_nodes=[]\n",
    "def get_leaves(G):\n",
    "    for node in G.nodes:\n",
    "        if G.degree(node)==1:\n",
    "            li_nodes.append(node)\n",
    "    return li_nodes"
   ]
  },
  {
   "cell_type": "code",
   "execution_count": null,
   "id": "103e3b3d",
   "metadata": {},
   "outputs": [],
   "source": []
  }
 ],
 "metadata": {
  "kernelspec": {
   "display_name": "Python 3 (ipykernel)",
   "language": "python",
   "name": "python3"
  },
  "language_info": {
   "codemirror_mode": {
    "name": "ipython",
    "version": 3
   },
   "file_extension": ".py",
   "mimetype": "text/x-python",
   "name": "python",
   "nbconvert_exporter": "python",
   "pygments_lexer": "ipython3",
   "version": "3.9.7"
  }
 },
 "nbformat": 4,
 "nbformat_minor": 5
}
